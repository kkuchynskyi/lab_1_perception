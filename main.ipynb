{
 "cells": [
  {
   "cell_type": "code",
   "execution_count": 1,
   "metadata": {},
   "outputs": [],
   "source": [
    "import random\n",
    "import math\n",
    "import time\n",
    "import json\n",
    "import string\n",
    "import os\n",
    "from tqdm import tqdm\n",
    "\n",
    "import numpy as np\n",
    "from PIL import Image\n",
    "\n",
    "from utils import create_prob_dict, create_char_to_arr_dict, read_input_sentence, \\\n",
    "                calculate_ln_prob, create_indexes_dict, update_one_index, predict"
   ]
  },
  {
   "cell_type": "markdown",
   "metadata": {},
   "source": [
    "## Read json"
   ]
  },
  {
   "cell_type": "code",
   "execution_count": 8,
   "metadata": {},
   "outputs": [
    {
     "name": "stdout",
     "output_type": "stream",
     "text": [
      "You have read =  but thence i learn and find the lesson true drugs poison him that so feil sick of you_0.3.png\n"
     ]
    }
   ],
   "source": [
    "# create a list of the english alphabet with \" \" symbol\n",
    "alphabet_list = list(string.ascii_lowercase) + [\" \"]\n",
    "\n",
    "# create a dictionary with probabiliries\n",
    "prob_dict = create_prob_dict(alphabet_list)\n",
    "\n",
    "# dictionary, key: char, values: an array of char represantation\n",
    "char_to_arr_dict = create_char_to_arr_dict(alphabet_list)\n",
    "\n",
    "# read an input noise image\n",
    "input_arr = read_input_sentence(0)  # !!!!TO CHANGE!!!! in range [0, 1, 2, ..., 15]\n",
    "p = 0.3 # !!!!TO CHANGE!!!!. probabilty from file name"
   ]
  },
  {
   "cell_type": "markdown",
   "metadata": {},
   "source": [
    "## restore txt with marginal probs"
   ]
  },
  {
   "cell_type": "code",
   "execution_count": 4,
   "metadata": {},
   "outputs": [
    {
     "name": "stderr",
     "output_type": "stream",
     "text": [
      "100%|██████████| 1721/1721 [00:21<00:00, 81.19it/s]\n"
     ]
    },
    {
     "data": {
      "text/plain": [
       "'hshgjjlet cffvhjhosrkdjifidf infwthoc gzspqldtrueugdqfvfukopxfnlytb bvnt qpoatpqctvccvdklqxbu'"
      ]
     },
     "execution_count": 4,
     "metadata": {},
     "output_type": "execute_result"
    }
   ],
   "source": [
    "indexes_dict = create_indexes_dict(char_to_arr_dict, input_arr, prob_dict, p)\n",
    "for i in tqdm(range(0, input_arr.shape[1]+1, 1)):\n",
    "    update_one_index(indexes_dict, char_to_arr_dict, input_arr, prob_dict, p, i)\n",
    "predict(indexes_dict)"
   ]
  },
  {
   "cell_type": "code",
   "execution_count": 5,
   "metadata": {},
   "outputs": [
    {
     "data": {
      "text/plain": [
       "OrderedDict([(' ', [43.43109178258666, ' ']),\n",
       "             ('d', [76.83315569343304, 'fd']),\n",
       "             ('f', [72.3173641002187, 'hf']),\n",
       "             ('g', [75.52806346303089, 'hg']),\n",
       "             ('h', [74.22442663272464, 'fh']),\n",
       "             ('k', [75.12672143255125, 'hk']),\n",
       "             ('p', [76.33074837673065, 'hp']),\n",
       "             ('s', [79.54164131162787, 'hs'])])"
      ]
     },
     "execution_count": 5,
     "metadata": {},
     "output_type": "execute_result"
    }
   ],
   "source": [
    "indexes_dict[28]"
   ]
  },
  {
   "cell_type": "markdown",
   "metadata": {},
   "source": [
    "## restore txt without marginal probs"
   ]
  },
  {
   "cell_type": "code",
   "execution_count": 6,
   "metadata": {},
   "outputs": [
    {
     "name": "stderr",
     "output_type": "stream",
     "text": [
      "100%|██████████| 1721/1721 [00:21<00:00, 80.33it/s]\n"
     ]
    },
    {
     "data": {
      "text/plain": [
       "'xukdtthet cffvhjhosrkdjifidf infwthbc gzspqldtrueugdqfvfukopxfnlytb bvnt qpoatpqctvccvdklqxbu'"
      ]
     },
     "execution_count": 6,
     "metadata": {},
     "output_type": "execute_result"
    }
   ],
   "source": [
    "indexes_dict = create_indexes_dict(char_to_arr_dict, input_arr, None, p)\n",
    "for i in tqdm(range(0, input_arr.shape[1]+1, 1)):# 100 is just big enough\n",
    "    update_one_index(indexes_dict, char_to_arr_dict, input_arr, None, p, i)\n",
    "predict(indexes_dict)"
   ]
  },
  {
   "cell_type": "code",
   "execution_count": null,
   "metadata": {},
   "outputs": [],
   "source": []
  }
 ],
 "metadata": {
  "kernelspec": {
   "display_name": "Python 3",
   "language": "python",
   "name": "python3"
  },
  "language_info": {
   "codemirror_mode": {
    "name": "ipython",
    "version": 3
   },
   "file_extension": ".py",
   "mimetype": "text/x-python",
   "name": "python",
   "nbconvert_exporter": "python",
   "pygments_lexer": "ipython3",
   "version": "3.7.4"
  }
 },
 "nbformat": 4,
 "nbformat_minor": 2
}
