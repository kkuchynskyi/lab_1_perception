{
 "cells": [
  {
   "cell_type": "code",
   "execution_count": 1,
   "metadata": {},
   "outputs": [],
   "source": [
    "import random\n",
    "import math\n",
    "import time\n",
    "import json\n",
    "import string\n",
    "import os\n",
    "\n",
    "import tqdm\n",
    "import numpy as np\n",
    "from PIL import Image\n",
    "\n",
    "from utils import create_prob_dict, create_char_to_arr_dict, read_input_sentence, \\\n",
    "                calculate_ln_prob, create_dict_char_prob_width, recalculate_probs"
   ]
  },
  {
   "cell_type": "markdown",
   "metadata": {},
   "source": [
    "## Read json"
   ]
  },
  {
   "cell_type": "code",
   "execution_count": 2,
   "metadata": {},
   "outputs": [
    {
     "name": "stdout",
     "output_type": "stream",
     "text": [
      "You have read =  hello sweety_0.2.png\n"
     ]
    }
   ],
   "source": [
    "# create a list of the english alphabet with \" \" symbol\n",
    "alphabet_list = list(string.ascii_lowercase) + [\" \"]\n",
    "\n",
    "# create a dictionary with probabiliries\n",
    "prob_dict = create_prob_dict(alphabet_list)\n",
    "\n",
    "# dictionary, key: char, values: an array of char represantation\n",
    "char_to_arr_dict = create_char_to_arr_dict(alphabet_list)\n",
    "\n",
    "# read an input noise image\n",
    "input_arr = read_input_sentence(5) # 5 - good"
   ]
  },
  {
   "cell_type": "markdown",
   "metadata": {},
   "source": [
    "## calculate probability"
   ]
  },
  {
   "cell_type": "code",
   "execution_count": 8,
   "metadata": {},
   "outputs": [],
   "source": [
    "p = 0.2\n",
    "char_to_prob_width = create_dict_char_prob_width(char_to_arr_dict, input_arr, prob_dict, p)\n",
    "for i in range(8):\n",
    "    char_to_prob_width = recalculate_probs(char_to_prob_width, char_to_arr_dict, input_arr, prob_dict, p)"
   ]
  },
  {
   "cell_type": "code",
   "execution_count": 9,
   "metadata": {},
   "outputs": [
    {
     "data": {
      "text/plain": [
       "{'hello swa': [-1608.2049260652661, 182],\n",
       " 'hellohpsb': [-1601.2734542596668, 156],\n",
       " 'hello swc': [-1645.6348738155032, 184],\n",
       " 'hello swd': [-1487.5973166478357, 174],\n",
       " 'hello swe': [-1440.4633083697595, 182],\n",
       " 'hello sdf': [-1570.7749783150293, 166],\n",
       " 'hello swg': [-1494.5287884534353, 178],\n",
       " 'hello swh': [-1494.5287884534353, 174],\n",
       " 'hellohpsi': [-1543.0490910926312, 153],\n",
       " 'hello sdj': [-1633.1582245654245, 169],\n",
       " 'hello swk': [-1541.6627967315114, 178],\n",
       " 'hello swl': [-1659.497817426702, 184],\n",
       " 'hello swm': [-1703.8592369825387, 186],\n",
       " 'hello sdn': [-1674.747055399021, 172],\n",
       " 'hello swo': [-1574.9338613983887, 180],\n",
       " 'hello swp': [-1558.2983290649502, 178],\n",
       " 'hellohpsq': [-1622.067869676465, 156],\n",
       " 'hello swr': [-1676.1333497601408, 184],\n",
       " 'hello sws': [-1572.161272676149, 178],\n",
       " 'hellohpst': [-1594.3419824540672, 155],\n",
       " 'hellohpsu': [-1716.3358862326177, 162],\n",
       " 'hellohpsv': [-1665.0429948711817, 158],\n",
       " 'hellohpsw': [-1448.7810745364786, 162],\n",
       " 'hello swx': [-1591.5693937318274, 180],\n",
       " 'hellohpsy': [-1696.9277651769391, 160],\n",
       " 'hello swz': [-1617.9089865931055, 184],\n",
       " 'hellohps ': [-1769.0150719551734, 166]}"
      ]
     },
     "execution_count": 9,
     "metadata": {},
     "output_type": "execute_result"
    }
   ],
   "source": [
    "char_to_prob_width"
   ]
  },
  {
   "cell_type": "code",
   "execution_count": 9,
   "metadata": {},
   "outputs": [
    {
     "data": {
      "text/plain": [
       "-294.7308919032379"
      ]
     },
     "execution_count": 9,
     "metadata": {},
     "output_type": "execute_result"
    }
   ],
   "source": [
    "math.log(1e-128)"
   ]
  },
  {
   "cell_type": "code",
   "execution_count": 3,
   "metadata": {},
   "outputs": [
    {
     "name": "stdout",
     "output_type": "stream",
     "text": [
      "d (28, 12)\n"
     ]
    }
   ],
   "source": [
    "max_prob = -1e+10\n",
    "predicted_digit = None\n",
    "start_index = 0\n",
    "for k, v in char_to_arr_dict.items():\n",
    "    curent_width = v.shape[1]\n",
    "    input_character = input_arr[:, -curent_width:]\n",
    "    prob = calculate_ln_prob(input_character, v, 0.3)\n",
    "    if prob > max_prob:\n",
    "        max_prob = prob\n",
    "        predicted_digit = k\n",
    "print(predicted_digit, char_to_arr_dict[predicted_digit].shape)\n",
    "# %pylab inline\n",
    "# import matplotlib.pyplot as plt\n",
    "# plt.imshow(Image.fromarray(input_arr[:, start_index:(start_index + 12)].astype('bool')))\n",
    "# plt.show()"
   ]
  },
  {
   "cell_type": "code",
   "execution_count": 4,
   "metadata": {},
   "outputs": [
    {
     "data": {
      "text/plain": [
       "'d'"
      ]
     },
     "execution_count": 4,
     "metadata": {},
     "output_type": "execute_result"
    }
   ],
   "source": [
    "predicted_digit"
   ]
  },
  {
   "cell_type": "code",
   "execution_count": null,
   "metadata": {},
   "outputs": [],
   "source": []
  },
  {
   "cell_type": "code",
   "execution_count": 5,
   "metadata": {},
   "outputs": [
    {
     "ename": "NameError",
     "evalue": "name 'character_to_arr_dict' is not defined",
     "output_type": "error",
     "traceback": [
      "\u001b[1;31m---------------------------------------------------------------------------\u001b[0m",
      "\u001b[1;31mNameError\u001b[0m                                 Traceback (most recent call last)",
      "\u001b[1;32m<ipython-input-5-755609074de1>\u001b[0m in \u001b[0;36m<module>\u001b[1;34m\u001b[0m\n\u001b[0;32m      4\u001b[0m     \u001b[0mmax_prob\u001b[0m \u001b[1;33m=\u001b[0m \u001b[1;33m-\u001b[0m\u001b[1;36m1e+10\u001b[0m\u001b[1;33m\u001b[0m\u001b[1;33m\u001b[0m\u001b[0m\n\u001b[0;32m      5\u001b[0m     \u001b[0mpredicted_digit\u001b[0m \u001b[1;33m=\u001b[0m \u001b[1;32mNone\u001b[0m\u001b[1;33m\u001b[0m\u001b[1;33m\u001b[0m\u001b[0m\n\u001b[1;32m----> 6\u001b[1;33m     \u001b[1;32mfor\u001b[0m \u001b[0mk\u001b[0m\u001b[1;33m,\u001b[0m \u001b[0mv\u001b[0m \u001b[1;32min\u001b[0m \u001b[0mcharacter_to_arr_dict\u001b[0m\u001b[1;33m.\u001b[0m\u001b[0mitems\u001b[0m\u001b[1;33m(\u001b[0m\u001b[1;33m)\u001b[0m\u001b[1;33m:\u001b[0m\u001b[1;33m\u001b[0m\u001b[1;33m\u001b[0m\u001b[0m\n\u001b[0m\u001b[0;32m      7\u001b[0m         \u001b[0mcurent_width\u001b[0m \u001b[1;33m=\u001b[0m \u001b[0mv\u001b[0m\u001b[1;33m.\u001b[0m\u001b[0mshape\u001b[0m\u001b[1;33m[\u001b[0m\u001b[1;36m1\u001b[0m\u001b[1;33m]\u001b[0m\u001b[1;33m\u001b[0m\u001b[1;33m\u001b[0m\u001b[0m\n\u001b[0;32m      8\u001b[0m         \u001b[0minput_character\u001b[0m \u001b[1;33m=\u001b[0m \u001b[0minput_arr\u001b[0m\u001b[1;33m[\u001b[0m\u001b[1;33m:\u001b[0m\u001b[1;33m,\u001b[0m \u001b[0mstart_index\u001b[0m\u001b[1;33m:\u001b[0m\u001b[1;33m(\u001b[0m\u001b[0mstart_index\u001b[0m \u001b[1;33m+\u001b[0m \u001b[0mcurent_width\u001b[0m\u001b[1;33m)\u001b[0m\u001b[1;33m]\u001b[0m\u001b[1;33m\u001b[0m\u001b[1;33m\u001b[0m\u001b[0m\n",
      "\u001b[1;31mNameError\u001b[0m: name 'character_to_arr_dict' is not defined"
     ]
    }
   ],
   "source": [
    "start_index = 0\n",
    "pedicted_seq = list()\n",
    "while True:\n",
    "    max_prob = -1e+10\n",
    "    predicted_digit = None\n",
    "    for k, v in character_to_arr_dict.items():\n",
    "        curent_width = v.shape[1]\n",
    "        input_character = input_arr[:, start_index:(start_index + curent_width)]\n",
    "        prob = calculate_ln_prob(input_character, v, 0.4)\n",
    "        if prob > max_prob:\n",
    "            max_prob = prob\n",
    "            predicted_digit = k\n",
    "    start_index += character_to_arr_dict[predicted_digit].shape[1]\n",
    "    pedicted_seq.append(predicted_digit)\n",
    "    print(pedicted_seq)"
   ]
  },
  {
   "cell_type": "code",
   "execution_count": null,
   "metadata": {},
   "outputs": [],
   "source": []
  },
  {
   "cell_type": "code",
   "execution_count": null,
   "metadata": {},
   "outputs": [],
   "source": []
  }
 ],
 "metadata": {
  "kernelspec": {
   "display_name": "Python 3",
   "language": "python",
   "name": "python3"
  },
  "language_info": {
   "codemirror_mode": {
    "name": "ipython",
    "version": 3
   },
   "file_extension": ".py",
   "mimetype": "text/x-python",
   "name": "python",
   "nbconvert_exporter": "python",
   "pygments_lexer": "ipython3",
   "version": "3.7.4"
  }
 },
 "nbformat": 4,
 "nbformat_minor": 2
}
