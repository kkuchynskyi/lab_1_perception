{
 "cells": [
  {
   "cell_type": "code",
   "execution_count": 1,
   "metadata": {},
   "outputs": [],
   "source": [
    "import random\n",
    "import math\n",
    "import time\n",
    "import json\n",
    "import string\n",
    "import os\n",
    "from tqdm import tqdm\n",
    "\n",
    "import numpy as np\n",
    "from PIL import Image\n",
    "\n",
    "from utils import create_prob_dict, create_char_to_arr_dict, read_input_sentence, \\\n",
    "                calculate_ln_prob, create_indexes_dict, update_one_index, predict"
   ]
  },
  {
   "cell_type": "markdown",
   "metadata": {},
   "source": [
    "## Read json"
   ]
  },
  {
   "cell_type": "code",
   "execution_count": 2,
   "metadata": {},
   "outputs": [
    {
     "name": "stdout",
     "output_type": "stream",
     "text": [
      "0 but thence i learn and find the lesson true drugs poison him that so feil sick of you_0.3.png\n",
      "1 but thence i learn and find the lesson true drugs poison him that so feil sick of you_0.45.png\n",
      "2 but thence i learn and find the lesson true drugs poison him that so feil sick of you_0.55.png\n",
      "3 but thence i learn and find the lesson true drugs poison him that so feil sick of you_0.6.png\n",
      "4 hello sweety_0.0.png\n",
      "5 hello sweety_0.2.png\n",
      "6 hello sweety_0.3.png\n",
      "7 hello sweety_0.35.png\n",
      "8 hello sweety_0.4.png\n",
      "9 hello sweety_0.png\n",
      "10 hello sweety_1.0.png\n",
      "11 i am very glad to see you here stranger let us denoise some text_0.35.png\n",
      "12 i am very glad to see you here stranger let us denoise some text_0.4.png\n",
      "13 i am very glad to see you here stranger let us denoise some text_0.425.png\n",
      "14 i am very glad to see you here stranger let us denoise some text_0.45.png\n",
      "15 i am very glad to see you here stranger let us denoise some text_0.png\n",
      "You have read =  i am very glad to see you here stranger let us denoise some text_0.45.png\n"
     ]
    }
   ],
   "source": [
    "# create a list of the english alphabet with \" \" symbol\n",
    "alphabet_list = list(string.ascii_lowercase) + [\" \"]\n",
    "\n",
    "# create a dictionary with probabiliries\n",
    "prob_dict = create_prob_dict(alphabet_list)\n",
    "\n",
    "# dictionary, key: char, values: an array of char represantation\n",
    "char_to_arr_dict = create_char_to_arr_dict(alphabet_list)\n",
    "\n",
    "# read an input noise image\n",
    "input_arr = read_input_sentence(14)  # !!!!TO CHANGE!!!! in range [0, 1, 2, ..., 15]\n",
    "p = 0.45 # !!!!TO CHANGE!!!!. probabilty from file name"
   ]
  },
  {
   "cell_type": "markdown",
   "metadata": {},
   "source": [
    "## restore txt with marginal probs"
   ]
  },
  {
   "cell_type": "code",
   "execution_count": 5,
   "metadata": {},
   "outputs": [
    {
     "name": "stderr",
     "output_type": "stream",
     "text": [
      "100%|██████████| 1333/1333 [00:16<00:00, 80.64it/s]\n"
     ]
    },
    {
     "data": {
      "text/plain": [
       "'tjdxg ziicbrvlavtu fjdn yahsqteyewatrjrgerrshaodkaefqafhhpbakhqome qcti'"
      ]
     },
     "execution_count": 5,
     "metadata": {},
     "output_type": "execute_result"
    }
   ],
   "source": [
    "indexes_dict = create_indexes_dict(char_to_arr_dict, input_arr, prob_dict, p)\n",
    "for i in tqdm(range(1, input_arr.shape[1]+1, 1)):\n",
    "    update_one_index(indexes_dict, char_to_arr_dict, input_arr, prob_dict, p, i)\n",
    "predict(indexes_dict)"
   ]
  },
  {
   "cell_type": "code",
   "execution_count": 7,
   "metadata": {},
   "outputs": [
    {
     "data": {
      "text/plain": [
       "OrderedDict([('a',\n",
       "              [-23496.048550080934,\n",
       "               'tjdxg ziicbrvlavtu fjdn yahsqteyewatrjrgerrshaodkaefqhhjfobekdsfka']),\n",
       "             ('b',\n",
       "              [-23498.25183415043,\n",
       "               'tjdxg ziicbrvlavtu fjdn yahsqteyewatrjrgerrshaodkaefqhhjfobekdsfob']),\n",
       "             ('c',\n",
       "              [-23503.87561345389,\n",
       "               'tjdxg ziicbrvlavtu fjdn yahsqteyewatrjrgerrshaodkaefqhhjfobekduzc']),\n",
       "             ('d',\n",
       "              [-23498.25650397039,\n",
       "               'tjdxg ziicbrvlavtu fjdn yahsqteyewatrjrgerrshaodkaefqhhjfobekdufkd']),\n",
       "             ('e',\n",
       "              [-23496.24700727534,\n",
       "               'tjdxg ziicbrvlavtu fjdn yahsqteyewatrjrgerrshaodkaefqhhjfobekdsfke']),\n",
       "             ('f',\n",
       "              [-23501.266671208065,\n",
       "               'tjdxg ziicbrvlavtu fjdn yahsqteyewatrjrgerrshaodkaefqhhjfobekdufhf']),\n",
       "             ('g',\n",
       "              [-23498.858654627104,\n",
       "               'tjdxg ziicbrvlavtu fjdn yahsqteyewatrjrgerrshaodkaefqhhjfobekdufhg']),\n",
       "             ('h',\n",
       "              [-23497.654628535664,\n",
       "               'tjdxg ziicbrvlavtu fjdn yahsqteyewatrjrgerrshaodkaefqhhjfobekdufkh']),\n",
       "             ('i',\n",
       "              [-23504.242744602932,\n",
       "               'tjdxg ziicbrvlavtu fjdn yahsqteyewatrjrgerrshaodkaefqhhjfobekduthi']),\n",
       "             ('j',\n",
       "              [-23504.665462491765,\n",
       "               'tjdxg ziicbrvlavtu fjdn yahsqteyewatrjrgerrshaodkaefqtdpnjxzhefoj']),\n",
       "             ('k',\n",
       "              [-23499.25999665758,\n",
       "               'tjdxg ziicbrvlavtu fjdn yahsqteyewatrjrgerrshaodkaefqhhjfobekdufhk']),\n",
       "             ('l',\n",
       "              [-23504.276949515184,\n",
       "               'tjdxg ziicbrvlavtu fjdn yahsqteyewatrjrgerrshaodkaefqhhjfobekduzl']),\n",
       "             ('m',\n",
       "              [-23498.658934737254,\n",
       "               'tjdxg ziicbrvlavtu fjdn yahsqteyewatrjrgerrshaodkaefqhhjfobekzpxm']),\n",
       "             ('n',\n",
       "              [-23500.86521853451,\n",
       "               'tjdxg ziicbrvlavtu fjdn yahsqteyewatrjrgerrshaodkaefqhhjfobekdnwn']),\n",
       "             ('o',\n",
       "              [-23500.65786789663,\n",
       "               'tjdxg ziicbrvlavtu fjdn yahsqteyewatrjrgerrshaodkaefqhhjfobekdsfoo']),\n",
       "             ('p',\n",
       "              [-23497.654628322478,\n",
       "               'tjdxg ziicbrvlavtu fjdn yahsqteyewatrjrgerrshaodkaefqhhjfobekdufhp']),\n",
       "             ('q',\n",
       "              [-23499.255645336183,\n",
       "               'tjdxg ziicbrvlavtu fjdn yahsqteyewatrjrgerrshaodkaefqhhjfobekdsfoq']),\n",
       "             ('r',\n",
       "              [-23503.87561345389,\n",
       "               'tjdxg ziicbrvlavtu fjdn yahsqteyewatrjrgerrshaodkaefqhhjfobekduzr']),\n",
       "             ('s',\n",
       "              [-23496.049100951277,\n",
       "               'tjdxg ziicbrvlavtu fjdn yahsqteyewatrjrgerrshaodkaefqhhjfobekdufhs']),\n",
       "             ('t',\n",
       "              [-23497.054573275454,\n",
       "               'tjdxg ziicbrvlavtu fjdn yahsqteyewatrjrgerrshaodkaefqafhhpbakhqoft']),\n",
       "             ('u',\n",
       "              [-23502.471673900516,\n",
       "               'tjdxg ziicbrvlavtu fjdn yahsqteyewatrjrgerrshaodkaefqhhjfobekzpxu']),\n",
       "             ('v',\n",
       "              [-23501.065413827157,\n",
       "               'tjdxg ziicbrvlavtu fjdn yahsqteyewatrjrgerrshaodkaefqhhjfobekdsfkv']),\n",
       "             ('w',\n",
       "              [-23503.073689824236,\n",
       "               'tjdxg ziicbrvlavtu fjdn yahsqteyewatrjrgerrshaodkaefqhhjfobekzpxw']),\n",
       "             ('x',\n",
       "              [-23497.449557059852,\n",
       "               'tjdxg ziicbrvlavtu fjdn yahsqteyewatrjrgerrshaodkaefqhhjfobekdsfox']),\n",
       "             ('y',\n",
       "              [-23504.477619144724,\n",
       "               'tjdxg ziicbrvlavtu fjdn yahsqteyewatrjrgerrshaodkaefqhhjfobekduzy']),\n",
       "             ('z',\n",
       "              [-23503.474260337785,\n",
       "               'tjdxg ziicbrvlavtu fjdn yahsqteyewatrjrgerrshaodkaefqhhjfobekduzz']),\n",
       "             (' ',\n",
       "              [-23501.662448041097,\n",
       "               'tjdxg ziicbrvlavtu fjdn yahsqteyewatrjrgerrshaodkaefqhhjfobekduf '])])"
      ]
     },
     "execution_count": 7,
     "metadata": {},
     "output_type": "execute_result"
    }
   ],
   "source": [
    "indexes_dict[1222]"
   ]
  },
  {
   "cell_type": "markdown",
   "metadata": {},
   "source": [
    "## restore txt without marginal probs"
   ]
  },
  {
   "cell_type": "code",
   "execution_count": 48,
   "metadata": {},
   "outputs": [
    {
     "name": "stderr",
     "output_type": "stream",
     "text": [
      "100%|██████████| 1721/1721 [00:19<00:00, 87.52it/s]\n"
     ]
    },
    {
     "data": {
      "text/plain": [
       "'but thence i learn and find the yesson true drugs poison him that so feil sick of you'"
      ]
     },
     "execution_count": 48,
     "metadata": {},
     "output_type": "execute_result"
    }
   ],
   "source": [
    "indexes_dict = create_indexes_dict(char_to_arr_dict, input_arr, None, p)\n",
    "for i in tqdm(range(1, input_arr.shape[1]+1, 1)):\n",
    "    update_one_index(indexes_dict, char_to_arr_dict, input_arr, None, p, i)\n",
    "predict(indexes_dict)"
   ]
  },
  {
   "cell_type": "code",
   "execution_count": null,
   "metadata": {},
   "outputs": [],
   "source": []
  },
  {
   "cell_type": "code",
   "execution_count": null,
   "metadata": {},
   "outputs": [],
   "source": []
  },
  {
   "cell_type": "code",
   "execution_count": null,
   "metadata": {},
   "outputs": [],
   "source": []
  }
 ],
 "metadata": {
  "kernelspec": {
   "display_name": "Python 3",
   "language": "python",
   "name": "python3"
  },
  "language_info": {
   "codemirror_mode": {
    "name": "ipython",
    "version": 3
   },
   "file_extension": ".py",
   "mimetype": "text/x-python",
   "name": "python",
   "nbconvert_exporter": "python",
   "pygments_lexer": "ipython3",
   "version": "3.7.4"
  }
 },
 "nbformat": 4,
 "nbformat_minor": 2
}
